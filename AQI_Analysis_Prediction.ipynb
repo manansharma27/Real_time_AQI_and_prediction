{
 "cells": [
  {
   "cell_type": "markdown",
   "metadata": {},
   "source": [
    "# Real time AQI data through API from (CPCB - India Central Pollution Control Board)"
   ]
  },
  {
   "cell_type": "markdown",
   "metadata": {},
   "source": [
    "Get the api data from here - > api : http://api.waqi.info/"
   ]
  },
  {
   "cell_type": "code",
   "execution_count": 1,
   "metadata": {},
   "outputs": [],
   "source": [
    "import requests"
   ]
  },
  {
   "cell_type": "code",
   "execution_count": 2,
   "metadata": {},
   "outputs": [
    {
     "data": {
      "text/plain": [
       "{'aqi': 157,\n",
       " 'idx': 12429,\n",
       " 'attributions': [{'url': 'http://cpcb.nic.in/',\n",
       "   'name': 'CPCB - India Central Pollution Control Board',\n",
       "   'logo': 'India-CPCB.png'},\n",
       "  {'url': 'https://waqi.info/', 'name': 'World Air Quality Index Project'}],\n",
       " 'city': {'geo': [23.233584, 77.400574],\n",
       "  'name': 'T T Nagar, Bhopal, India',\n",
       "  'url': 'https://aqicn.org/city/india/bhopal/t-t-nagar'},\n",
       " 'dominentpol': 'pm25',\n",
       " 'iaqi': {'co': {'v': 20.1},\n",
       "  'dew': {'v': 13},\n",
       "  'h': {'v': 55.5},\n",
       "  'no2': {'v': 24.2},\n",
       "  'o3': {'v': 13.6},\n",
       "  'p': {'v': 705},\n",
       "  'pm10': {'v': 114},\n",
       "  'pm25': {'v': 157},\n",
       "  'so2': {'v': 13.8},\n",
       "  't': {'v': 29.5},\n",
       "  'w': {'v': 0.3}},\n",
       " 'time': {'s': '2022-02-19 20:00:00',\n",
       "  'tz': '+05:30',\n",
       "  'v': 1645300800,\n",
       "  'iso': '2022-02-19T20:00:00+05:30'},\n",
       " 'forecast': {'daily': {'o3': [{'avg': 14,\n",
       "     'day': '2022-02-17',\n",
       "     'max': 24,\n",
       "     'min': 9},\n",
       "    {'avg': 12, 'day': '2022-02-18', 'max': 24, 'min': 2},\n",
       "    {'avg': 9, 'day': '2022-02-19', 'max': 25, 'min': 2},\n",
       "    {'avg': 13, 'day': '2022-02-20', 'max': 28, 'min': 8},\n",
       "    {'avg': 11, 'day': '2022-02-21', 'max': 29, 'min': 3},\n",
       "    {'avg': 13, 'day': '2022-02-22', 'max': 27, 'min': 1},\n",
       "    {'avg': 15, 'day': '2022-02-23', 'max': 30, 'min': 4},\n",
       "    {'avg': 11, 'day': '2022-02-24', 'max': 11, 'min': 9}],\n",
       "   'pm10': [{'avg': 37, 'day': '2022-02-17', 'max': 46, 'min': 28},\n",
       "    {'avg': 28, 'day': '2022-02-18', 'max': 33, 'min': 28},\n",
       "    {'avg': 28, 'day': '2022-02-19', 'max': 28, 'min': 28},\n",
       "    {'avg': 30, 'day': '2022-02-20', 'max': 46, 'min': 19},\n",
       "    {'avg': 63, 'day': '2022-02-21', 'max': 121, 'min': 34},\n",
       "    {'avg': 76, 'day': '2022-02-22', 'max': 123, 'min': 46},\n",
       "    {'avg': 49, 'day': '2022-02-23', 'max': 58, 'min': 46},\n",
       "    {'avg': 66, 'day': '2022-02-24', 'max': 73, 'min': 51},\n",
       "    {'avg': 58, 'day': '2022-02-25', 'max': 58, 'min': 56}],\n",
       "   'pm25': [{'avg': 112, 'day': '2022-02-17', 'max': 138, 'min': 89},\n",
       "    {'avg': 89, 'day': '2022-02-18', 'max': 89, 'min': 85},\n",
       "    {'avg': 89, 'day': '2022-02-19', 'max': 89, 'min': 89},\n",
       "    {'avg': 80, 'day': '2022-02-20', 'max': 89, 'min': 68},\n",
       "    {'avg': 109, 'day': '2022-02-21', 'max': 138, 'min': 78},\n",
       "    {'avg': 119, 'day': '2022-02-22', 'max': 151, 'min': 89},\n",
       "    {'avg': 102, 'day': '2022-02-23', 'max': 138, 'min': 88},\n",
       "    {'avg': 134, 'day': '2022-02-24', 'max': 138, 'min': 90},\n",
       "    {'avg': 138, 'day': '2022-02-25', 'max': 138, 'min': 124}],\n",
       "   'uvi': [{'avg': 2, 'day': '2022-02-17', 'max': 7, 'min': 0},\n",
       "    {'avg': 2, 'day': '2022-02-18', 'max': 7, 'min': 0},\n",
       "    {'avg': 1, 'day': '2022-02-19', 'max': 4, 'min': 0},\n",
       "    {'avg': 2, 'day': '2022-02-20', 'max': 8, 'min': 0},\n",
       "    {'avg': 2, 'day': '2022-02-21', 'max': 8, 'min': 0},\n",
       "    {'avg': 2, 'day': '2022-02-22', 'max': 7, 'min': 0},\n",
       "    {'avg': 2, 'day': '2022-02-23', 'max': 7, 'min': 0},\n",
       "    {'avg': 0, 'day': '2022-02-24', 'max': 0, 'min': 0}]}},\n",
       " 'debug': {'sync': '2022-02-20T00:06:11+09:00'}}"
      ]
     },
     "execution_count": 2,
     "metadata": {},
     "output_type": "execute_result"
    }
   ],
   "source": [
    "#Testing the API connection through requests library and gathering data for \"Bhopal\" city\n",
    "city = 'bhopal'\n",
    "url = 'http://api.waqi.info/feed/' + city + '/?token='\n",
    "api_key = '47f6631e4b8dd38b5770cb532ec693fcd06c84e3'\n",
    "\n",
    "#Adding url and api token\n",
    "main_url = url + api_key\n",
    "r = requests.get(main_url)\n",
    "data = r.json()['data']\n",
    "data"
   ]
  },
  {
   "cell_type": "markdown",
   "metadata": {},
   "source": [
    "# Extracting air quality information"
   ]
  },
  {
   "cell_type": "code",
   "execution_count": 3,
   "metadata": {},
   "outputs": [
    {
     "name": "stdout",
     "output_type": "stream",
     "text": [
      "co : 20.1\n",
      "dew : 13\n",
      "h : 55.5\n",
      "no2 : 24.2\n",
      "o3 : 13.6\n",
      "pm10 : 114\n",
      "pm25 : 157\n",
      "so2 : 13.8\n",
      "t : 29.5\n",
      "w : 0.3\n"
     ]
    }
   ],
   "source": [
    "iaqi = data['iaqi']\n",
    "\n",
    "del iaqi['p']\n",
    "\n",
    "for info in iaqi.items():\n",
    "    print(info[0],\":\",info[1]['v'])"
   ]
  },
  {
   "cell_type": "code",
   "execution_count": 4,
   "metadata": {},
   "outputs": [
    {
     "name": "stdout",
     "output_type": "stream",
     "text": [
      "Real time AQI of bhopal is : 157 \n",
      "\n",
      "Individual Air quality\n",
      "Dew : {'v': 13}\n",
      "NO2 : {'v': 24.2}\n",
      "Ozone : {'v': 13.6}\n",
      "Sulphur Dioxide : {'v': 13.8}\n",
      "PM 10 : {'v': 13.8}\n",
      "PM 2.5 : {'v': 157}\n"
     ]
    }
   ],
   "source": [
    "#Extracting real time polluntants and printing it.\n",
    "aqi = data['aqi']\n",
    "dew = iaqi.get('dew','Nil')\n",
    "no2 = iaqi.get('no2','Nil')\n",
    "o3 = iaqi.get('o3','Nil')\n",
    "so2 = iaqi.get('so2','Nil')\n",
    "pm10 = iaqi.get('pm10','Nil')\n",
    "pm25 = iaqi.get('pm25','Nil')\n",
    "\n",
    "print(f'Real time AQI of {city} is :',aqi,'\\n')\n",
    "print('Individual Air quality')\n",
    "print('Dew :',dew)\n",
    "print('NO2 :',no2)\n",
    "print('Ozone :',o3)\n",
    "print('Sulphur Dioxide :',so2)\n",
    "print('PM 10 :',so2)\n",
    "print('PM 2.5 :',pm25)"
   ]
  },
  {
   "cell_type": "code",
   "execution_count": 6,
   "metadata": {},
   "outputs": [
    {
     "name": "stderr",
     "output_type": "stream",
     "text": [
      "No handles with labels found to put in legend.\n"
     ]
    },
    {
     "data": {
      "image/png": "[encoded data removed]",
      "text/plain": [
       "<Figure size 1440x720 with 1 Axes>"
      ]
     },
     "metadata": {
      "needs_background": "light"
     },
     "output_type": "display_data"
    }
   ],
   "source": [
    "#Importing seaborn for plotting the polluntants\n",
    "import seaborn as sb\n",
    "import matplotlib.pyplot as plt\n",
    "pollutants = [i for i in iaqi]\n",
    "values = [i['v'] for i in iaqi.values()]\n",
    "\n",
    "fig,ax = plt.subplots(figsize=(20, 10))\n",
    "sb.despine()\n",
    "sb.set_context(\"notebook\", font_scale=1.5, rc={\"lines.linewidth\": 2})\n",
    "\n",
    "sb.barplot(x=pollutants, y=values)\n",
    "ax.set_ylabel(ylabel = 'Values', fontsize = 10)\n",
    "ax.set_xlabel(xlabel = 'Polluntants', fontsize = 10)\n",
    "ax.set_title('Real time Air Polluntants in Bhopal')\n",
    "ax.legend();"
   ]
  },
  {
   "cell_type": "markdown",
   "metadata": {},
   "source": [
    "We can see that PM 2.5 and PM 10 and Ozone are the top pollutants in Air of Bhopal"
   ]
  },
  {
   "cell_type": "code",
   "execution_count": null,
   "metadata": {},
   "outputs": [],
   "source": []
  }
 ],
 "metadata": {
  "kernelspec": {
   "display_name": "Python 3",
   "language": "python",
   "name": "python3"
  },
  "language_info": {
   "codemirror_mode": {
    "name": "ipython",
    "version": 3
   },
   "file_extension": ".py",
   "mimetype": "text/x-python",
   "name": "python",
   "nbconvert_exporter": "python",
   "pygments_lexer": "ipython3",
   "version": "3.7.3"
  }
 },
 "nbformat": 4,
 "nbformat_minor": 2
}
